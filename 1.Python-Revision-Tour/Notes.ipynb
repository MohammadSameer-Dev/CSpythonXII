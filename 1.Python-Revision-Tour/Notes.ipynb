{
 "cells": [
  {
   "cell_type": "markdown",
   "metadata": {},
   "source": [
    "# Python Revision Tour \n",
    "\n",
    "## 1.Introdunction\n",
    "\n",
    "---\n",
    "\n",
    "### Tokens in Python\n",
    "The smallest individual unit in a program is know as a token or lexical units.\n",
    "Python have following tokens.\n",
    "- Keywords\n",
    "- Identifiers\n",
    "- Literals\n",
    "- Operators\n",
    "- Punctuators"
   ]
  },
  {
   "cell_type": "markdown",
   "metadata": {},
   "source": [
    "#### Keywords\n",
    "A keywords is a words having special meaning reserved by programming language.\n",
    "- Example : False , del , pass , while , or , try ."
   ]
  },
  {
   "cell_type": "markdown",
   "metadata": {},
   "source": [
    "### Identifiers\n",
    "In Python, identifiers are the names used to identify:\n",
    "- Variable\n",
    "- Object\n",
    "- Classes\n",
    "- Function\n",
    "\n",
    "✅ Rules for Writing Identifiers:\n",
    "- Can contain letters (A–Z, a–z), digits (0–9), and underscores (_).\n",
    "- Cannot start with a digit.\n",
    "- Cannot use Python keywords as identifiers (e.g., class, def, if, etc.).\n",
    "- Case-sensitive — Name and name are treated as different.\n",
    "- Special characters (like @, #, $, -) are not allowed."
   ]
  },
  {
   "cell_type": "code",
   "execution_count": null,
   "metadata": {},
   "outputs": [],
   "source": [
    "#✅ Valid Examples\n",
    "name = \"Sameer\"\n",
    "_age = 20\n",
    "marks_10 = 95\n",
    "def my_function():\n",
    "    pass\n"
   ]
  },
  {
   "cell_type": "code",
   "execution_count": null,
   "metadata": {},
   "outputs": [],
   "source": [
    "❌ Invalid Examples\n",
    "1variable = 5      # starts with a digit\n",
    "def = 10           # 'def' is a keyword\n",
    "my-name = \"Ali\"    # hyphen not allowed\n"
   ]
  },
  {
   "cell_type": "markdown",
   "metadata": {},
   "source": [
    "### Literals\n",
    "They are data items that have a fixed value.\n",
    "\n",
    "1. String\n",
    "A string literal is a sequence of character surrounded by quates.\n",
    "\n",
    "\n"
   ]
  },
  {
   "cell_type": "code",
   "execution_count": null,
   "metadata": {},
   "outputs": [],
   "source": [
    "name = 'Sameer'\n",
    "print(name)    #  Single-Quoted String\n",
    "\n",
    "greeting = \"Hello, World!\"\n",
    "print(greeting)    #  Single-Quoted String\n",
    "\n",
    "info = '''My name is Sameer.\n",
    "I love Python.\n",
    "I want to become a game developer.'''\n",
    "print(info)        #  Triple-Quoted String (Multiline)\n"
   ]
  },
  {
   "cell_type": "markdown",
   "metadata": {},
   "source": [
    "2. Numeric Literals\n",
    "Numeric literals are numeric values.\n",
    "- Integer (Octal,Hexadecimal)\n",
    "- Floating Point Literals\n",
    "- Complex Number literals"
   ]
  },
  {
   "cell_type": "code",
   "execution_count": null,
   "metadata": {},
   "outputs": [],
   "source": [
    "# Integer literal\n",
    "a = 10\n",
    "print(a, \"is of type\", type(a))      \n",
    "\n",
    "# Floating-point literal\n",
    "b = 3.14\n",
    "print(b, \"is of type\", type(b))      \n",
    "\n",
    "# Complex number literal\n",
    "c = 2 + 3j\n",
    "print(c, \"is of type\", type(c))      \n",
    "\n",
    "# Binary literal\n",
    "d = 0b1010\n",
    "print(d, \"is of type\", type(d))     \n",
    "\n",
    "# Octal literal\n",
    "e = 0o12\n",
    "print(e, \"is of type\", type(e))      \n",
    "\n",
    "# Hexadecimal literal\n",
    "f = 0xA\n",
    "print(f, \"is of type\", type(f))      \n"
   ]
  },
  {
   "cell_type": "markdown",
   "metadata": {},
   "source": [
    "3. Boolean Literals\n",
    "Boolean literals represent True or False values in Python. They belong to the bool data type and are commonly used in conditions and logical operations."
   ]
  },
  {
   "cell_type": "code",
   "execution_count": null,
   "metadata": {},
   "outputs": [],
   "source": [
    "# Boolean literals\n",
    "x = True\n",
    "y = False\n",
    "\n",
    "print(x, \"is of type\", type(x))   \n",
    "print(y, \"is of type\", type(y))   \n",
    "\n",
    "# Boolean in expressions\n",
    "print(10 > 5)   \n",
    "print(10 < 5)   \n",
    "\n",
    "# Boolean as numbers (internally, True = 1, False = 0)\n",
    "print(True + True)    \n",
    "print(False + True)   \n",
    "print(False * 10)     \n"
   ]
  },
  {
   "cell_type": "markdown",
   "metadata": {},
   "source": [
    "4. Literal None \n",
    "This is used to represent the absence of values."
   ]
  },
  {
   "cell_type": "markdown",
   "metadata": {},
   "source": [
    "### Operators\n",
    "Operators are the tokens that trigger some computation when applied to variable and other object in an expression."
   ]
  },
  {
   "cell_type": "code",
   "execution_count": null,
   "metadata": {},
   "outputs": [],
   "source": [
    "a, b = 10, 3\n",
    "\n",
    "# Arithmetic Operators\n",
    "print(a + b, a - b, a * b, a / b, a // b, a % b, a ** b)\n",
    "\n",
    "# Comparison Operators\n",
    "print(a == b, a != b, a > b, a < b, a >= b, a <= b)\n",
    "\n",
    "# Logical Operators\n",
    "x, y = True, False\n",
    "print(x and y, x or y, not x)\n",
    "\n",
    "# Bitwise Operators\n",
    "print(a & b, a | b, a ^ b, ~a, a << 1, a >> 1)\n",
    "\n",
    "# Assignment Operators\n",
    "x = 5\n",
    "x += 3\n",
    "print(x)\n",
    "\n",
    "# Identity Operators\n",
    "print(a is b, a is not b)\n",
    "\n",
    "# Membership Operators\n",
    "lst = [1, 2, 3]\n",
    "print(2 in lst, 5 not in lst)\n"
   ]
  },
  {
   "cell_type": "markdown",
   "metadata": {},
   "source": [
    "***"
   ]
  }
 ],
 "metadata": {
  "kernelspec": {
   "display_name": "Python 3",
   "language": "python",
   "name": "python3"
  },
  "language_info": {
   "codemirror_mode": {
    "name": "ipython",
    "version": 3
   },
   "file_extension": ".py",
   "mimetype": "text/x-python",
   "name": "python",
   "nbconvert_exporter": "python",
   "pygments_lexer": "ipython3",
   "version": "3.13.0"
  }
 },
 "nbformat": 4,
 "nbformat_minor": 2
}
